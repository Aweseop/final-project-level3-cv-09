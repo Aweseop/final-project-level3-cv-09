{
 "cells": [
  {
   "cell_type": "code",
   "execution_count": 1,
   "metadata": {},
   "outputs": [],
   "source": [
    "# basic setup\n",
    "import json\n",
    "import os\n",
    "import random\n",
    "from PIL import Image\n",
    "from tqdm.notebook import tqdm\n",
    "from glob import glob\n",
    "from collections import defaultdict"
   ]
  },
  {
   "cell_type": "code",
   "execution_count": 10,
   "metadata": {},
   "outputs": [],
   "source": [
    "# 샘플 데이터 들어있는 폴더 경로(이름을 아래처럼 바꿔주었습니다)\n",
    "# 내부에 백향과, 백향과 json, .... 등의 폴더로 구성\n",
    "base_dir='./data_sample/'"
   ]
  },
  {
   "cell_type": "code",
   "execution_count": 90,
   "metadata": {},
   "outputs": [],
   "source": [
    "def convert_to_COCO(base_dir,save_dir='./'):\n",
    "\n",
    "    json_folder_list=glob(os.path.join(base_dir,'*json'))\n",
    "\n",
    "    leftcut=len(base_dir)\n",
    "\n",
    "    categories={}\n",
    "    res = defaultdict(list)\n",
    "\n",
    "    json_paths=[]\n",
    "    cnt=1\n",
    "    for folder in json_folder_list:\n",
    "        # 카테고리 저장\n",
    "        categories[folder[leftcut:-5]]=cnt\n",
    "        cnt+=1\n",
    "\n",
    "        # json path 저장\n",
    "        json_paths+=glob(os.path.join(folder,'*json'))\n",
    "\n",
    "\n",
    "    # 8:2로 학습/검증 데이터 분리\n",
    "    train_paths=list()\n",
    "    val_paths=list()\n",
    "\n",
    "    cnt=0\n",
    "    for path in json_paths:\n",
    "        if cnt%5==0:\n",
    "            val_paths.append(path)\n",
    "        else:\n",
    "            train_paths.append(path)\n",
    "        cnt+=1\n",
    "    \n",
    "\n",
    "    \n",
    "    categories2eng={}\n",
    "    path_list=[train_paths,val_paths]\n",
    "    pth_num=0\n",
    "    for pth in path_list:\n",
    "        n_id=0\n",
    "\n",
    "        for json_path in tqdm(pth):\n",
    "            p=json_path.split('/')\n",
    "            img_path=os.path.join(p[0],p[1],p[2][:-5],p[3][:-5]+'.jpg')\n",
    "            img= Image.open(img_path)\n",
    "            img_width, img_height= img.size\n",
    "\n",
    "            with open(json_path, 'r') as f:\n",
    "                temps = json.load(f)\n",
    "\n",
    "            image_id = temps[0]['Code Name'][:-4]\n",
    "            res['images'].append({\n",
    "                    'id':image_id,\n",
    "                    'width': img_width,\n",
    "                    'height': img_height,\n",
    "                    'file_name': temps[0]['Code Name']\n",
    "                })\n",
    "\n",
    "            \n",
    "            if categories[p[2][:-5]] not in categories2eng.keys():\n",
    "                categories2eng[categories[p[2][:-5]]]=temps[0]['Name']\n",
    "\n",
    "            for tmp in temps:\n",
    "            \n",
    "                mid_x,mid_y=map(float,tmp[\"Point(x,y)\"].split(','))\n",
    "                x1 = (mid_x-float(tmp['W'])/2)*img_width\n",
    "                y1 = (mid_y-float(tmp['H'])/2)*img_height\n",
    "                w  = float(tmp['W'])+img_width\n",
    "                h  = float(tmp['W'])+img_height\n",
    "            \n",
    "                res['annotations'].append({\n",
    "                    'id': n_id,\n",
    "                    'image_id':image_id,\n",
    "                    'category_id': categories[p[2][:-5]],\n",
    "                    'area': w * h,\n",
    "                    'bbox': [x1, y1, w, h],\n",
    "                    'iscrowd': 0\n",
    "                })\n",
    "                n_id += 1\n",
    "        for _, id in categories.items():\n",
    "            res['categories'].append({\n",
    "                'id': id,\n",
    "                'name': categories2eng[id],\n",
    "            })\n",
    "        if pth_num==0:\n",
    "            with open(save_dir+'tarin_annotation.json', 'w') as f:\n",
    "                json.dump(res, f)\n",
    "        else:\n",
    "            with open(save_dir+'val_annotation.json', 'w') as f:\n",
    "                json.dump(res, f)\n",
    "        pth_num+=1"
   ]
  },
  {
   "cell_type": "code",
   "execution_count": 91,
   "metadata": {},
   "outputs": [
    {
     "data": {
      "application/vnd.jupyter.widget-view+json": {
       "model_id": "c852828c010c4655906e3cba803d3a52",
       "version_major": 2,
       "version_minor": 0
      },
      "text/plain": [
       "  0%|          | 0/800 [00:00<?, ?it/s]"
      ]
     },
     "metadata": {},
     "output_type": "display_data"
    },
    {
     "data": {
      "application/vnd.jupyter.widget-view+json": {
       "model_id": "71874615340e4334b9dab4a37437eea1",
       "version_major": 2,
       "version_minor": 0
      },
      "text/plain": [
       "  0%|          | 0/200 [00:00<?, ?it/s]"
      ]
     },
     "metadata": {},
     "output_type": "display_data"
    }
   ],
   "source": [
    "convert_to_COCO(base_dir)"
   ]
  },
  {
   "cell_type": "code",
   "execution_count": null,
   "metadata": {},
   "outputs": [],
   "source": []
  }
 ],
 "metadata": {
  "interpreter": {
   "hash": "ac6f9ef9ebb319fded389d933f4ca066a3f2424ad6b8af84346f539f04b66981"
  },
  "kernelspec": {
   "display_name": "Python 3.8.12 64-bit ('competition': conda)",
   "language": "python",
   "name": "python3"
  },
  "language_info": {
   "codemirror_mode": {
    "name": "ipython",
    "version": 3
   },
   "file_extension": ".py",
   "mimetype": "text/x-python",
   "name": "python",
   "nbconvert_exporter": "python",
   "pygments_lexer": "ipython3",
   "version": "3.8.12"
  },
  "orig_nbformat": 4
 },
 "nbformat": 4,
 "nbformat_minor": 2
}
